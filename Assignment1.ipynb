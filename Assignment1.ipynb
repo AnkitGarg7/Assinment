{
 "cells": [
  {
   "cell_type": "markdown",
   "id": "6e74ed70-75ff-4419-ac1d-1573dc1d0e55",
   "metadata": {},
   "source": [
    "#### Q1. Which keyword is used to create a function? Create a function to return a list of odd numbers in the range of 1 to 25."
   ]
  },
  {
   "cell_type": "code",
   "execution_count": 14,
   "id": "eb94fcd7-43ac-4524-83de-119130b295f3",
   "metadata": {
    "tags": []
   },
   "outputs": [],
   "source": [
    "# Ans_1 def is used to create a function\n",
    "def odd_no(a):\n",
    "    a=25\n",
    "    n=[]\n",
    "    for i in range(a):\n",
    "        if i%2==1:\n",
    "            n.append(i)\n",
    "    return n"
   ]
  },
  {
   "cell_type": "code",
   "execution_count": 16,
   "id": "03218570-22d6-4bd6-9b91-5e663bbad921",
   "metadata": {},
   "outputs": [
    {
     "data": {
      "text/plain": [
       "[1, 3, 5, 7, 9, 11, 13, 15, 17, 19, 21, 23]"
      ]
     },
     "execution_count": 16,
     "metadata": {},
     "output_type": "execute_result"
    }
   ],
   "source": [
    "odd_no(30)            "
   ]
  },
  {
   "cell_type": "markdown",
   "id": "32334785-2a64-4c72-9352-d9f33bc0b19d",
   "metadata": {},
   "source": [
    "#### Q2. Why *args and **kwargs is used in some functions? Create a function each for *args and **kwargs to demonstrate their use."
   ]
  },
  {
   "cell_type": "code",
   "execution_count": 17,
   "id": "93c662a3-4192-425f-a54f-6817f3d20bd4",
   "metadata": {},
   "outputs": [],
   "source": [
    "\"\"\" Ans_2 In Python, we can pass a variable number of arguments to a function using special symbols. There are two special symbols:\n",
    "*args (Non Keyword Arguments)\n",
    "**kwargs (Keyword Arguments)\n",
    "for example:\"\"\"\n",
    "def pest1(*args):\n",
    "    return args\n",
    "def pest5(**k):\n",
    "    return k"
   ]
  },
  {
   "cell_type": "code",
   "execution_count": 18,
   "id": "e9e6a86d-6b81-412c-b50b-42c4461865a6",
   "metadata": {},
   "outputs": [
    {
     "data": {
      "text/plain": [
       "(45, 5, 6, 4, 8, 'hah')"
      ]
     },
     "execution_count": 18,
     "metadata": {},
     "output_type": "execute_result"
    }
   ],
   "source": [
    "pest1(45,5,6,4,8,'hah')"
   ]
  },
  {
   "cell_type": "code",
   "execution_count": 19,
   "id": "510ecebe-35e3-4605-9a75-6681ebe5c01e",
   "metadata": {},
   "outputs": [
    {
     "data": {
      "text/plain": [
       "{'a': 4, 'n': 'gh', 'd': [45, 4, 8]}"
      ]
     },
     "execution_count": 19,
     "metadata": {},
     "output_type": "execute_result"
    }
   ],
   "source": [
    "pest5(a=4,  n = 'gh', d= [45,4,8])"
   ]
  },
  {
   "cell_type": "markdown",
   "id": "56ac4f22-2f44-431b-b780-61936060e9d5",
   "metadata": {},
   "source": [
    "#### Q3. What is an iterator in python? Name the method used to initialise the iterator object and the method used for iteration. Use these methods to print the first five elements of the given list [2, 4, 6, 8, 10, 12, 14, 16,18, 20]."
   ]
  },
  {
   "cell_type": "code",
   "execution_count": 20,
   "id": "b45bb0b0-c2a6-4151-8445-55cd2de28184",
   "metadata": {},
   "outputs": [
    {
     "name": "stdout",
     "output_type": "stream",
     "text": [
      "2\n",
      "4\n",
      "6\n",
      "8\n",
      "10\n"
     ]
    }
   ],
   "source": [
    "'''Ans_3 Iterator in Python is an object that is used to iterate over iterable objects like lists, tuples, dicts, and sets.\n",
    "The iterator object is initialized using the iter() method. It uses the next() method for iteration.\n",
    "\n",
    "__iter__(): The iter() method is called for the initialization of an iterator. This returns an iterator object\n",
    "__next__(): The next method returns the next value for the iterable. When we use a for loop to traverse any iterable object,\n",
    "internally it uses the iter() method to get an iterator object, which further uses the next() method to iterate over. \n",
    "This method raises a StopIteration to signal the end of the iteration. '''\n",
    "# example \n",
    "list1= [2, 4, 6, 8, 10, 12, 14, 16,18, 20]\n",
    "for i in list1:\n",
    "    if i<=10:\n",
    "        print(i)"
   ]
  },
  {
   "cell_type": "markdown",
   "id": "979eba83-65e2-4373-9c12-a1e4da41810a",
   "metadata": {},
   "source": [
    "#### Q4. What is a generator function in python? Why yield keyword is used? Give an example of a generator function."
   ]
  },
  {
   "cell_type": "code",
   "execution_count": 21,
   "id": "ef55cb66-4070-4f79-8f66-769ea04f2b98",
   "metadata": {},
   "outputs": [],
   "source": [
    "''' Ans_4 Generator Functions:\n",
    "Generator functions are a special kind of function that return a lazy iterator called a generator iterator.\n",
    "These are objects that you can loop  over like a list. However, unlike lists, lazy iterators do not store their contents in memory.\n",
    " yield:\n",
    " yield keyword is used to convert an expression that is specified along with it to a generator iterator, and return it to the caller. \n",
    " example:'''\n",
    "def pest_feb(n):\n",
    "    a,b=0,1\n",
    "    for i in range(n):\n",
    "        yield a\n",
    "        a,b = b,a+b"
   ]
  },
  {
   "cell_type": "code",
   "execution_count": 22,
   "id": "259fbc09-1b62-43e5-85a8-de6a44134689",
   "metadata": {
    "jupyter": {
     "source_hidden": true
    },
    "tags": []
   },
   "outputs": [
    {
     "name": "stdout",
     "output_type": "stream",
     "text": [
      "0\n",
      "1\n",
      "1\n",
      "2\n",
      "3\n",
      "5\n",
      "8\n",
      "13\n",
      "21\n",
      "34\n"
     ]
    }
   ],
   "source": [
    "for i in pest_feb(10):\n",
    "    print(i)"
   ]
  },
  {
   "cell_type": "markdown",
   "id": "d1439d8d-9d3f-4664-9ffc-492f3c3b3bf8",
   "metadata": {
    "tags": []
   },
   "source": [
    "#### Q5. Create a generator function for prime numbers less than 1000. Use the next() method to print the first 20 prime numbers."
   ]
  },
  {
   "cell_type": "code",
   "execution_count": null,
   "id": "cbaaba7c-f4b3-4d86-b1f6-dcecf16b2e53",
   "metadata": {},
   "outputs": [],
   "source": [
    "# Ans_5\n",
    "def generate_primes():\n",
    "    # start with the first prime number\n",
    "    num = 2\n",
    "    while num < 1000:\n",
    "        # check if the number is prime\n",
    "        is_prime = True\n",
    "        for i in range(2, int(num ** 0.5) + 1):\n",
    "            if num % i == 0:\n",
    "                is_prime = False\n",
    "                break\n",
    "        if is_prime:\n",
    "            # yield the prime number\n",
    "            yield num\n",
    "        # increment the number for the next iteration\n",
    "        num += 1\n",
    "prime_generator = generate_primes()\n",
    "for prime in prime_generator:\n",
    "    print(prime)\n"
   ]
  },
  {
   "cell_type": "code",
   "execution_count": 3,
   "id": "5d0a5137-6330-451a-a7f3-6830d6e463da",
   "metadata": {},
   "outputs": [
    {
     "name": "stdout",
     "output_type": "stream",
     "text": [
      "2\n",
      "3\n",
      "5\n",
      "7\n",
      "11\n",
      "13\n",
      "17\n",
      "19\n",
      "23\n",
      "29\n",
      "31\n",
      "37\n",
      "41\n",
      "43\n",
      "47\n",
      "53\n",
      "59\n",
      "61\n",
      "67\n",
      "71\n"
     ]
    }
   ],
   "source": [
    "def is_prime(n):\n",
    "    \"\"\"Helper function to check if a number is prime\"\"\"\n",
    "    if n < 2:\n",
    "        return False\n",
    "    for i in range(2, int(n**0.5)+1):\n",
    "        if n % i == 0:\n",
    "            return False\n",
    "    return True\n",
    "\n",
    "def generate_primes():\n",
    "    \"\"\"Generator function to generate prime numbers less than 1000\"\"\"\n",
    "    n = 2\n",
    "    while n < 1000:\n",
    "        if is_prime(n):\n",
    "            yield n\n",
    "        n += 1\n",
    "\n",
    "# Create a generator object\n",
    "prime_generator = generate_primes()\n",
    "\n",
    "# Print the first 20 prime numbers using the next() method\n",
    "for i in range(20):\n",
    "    print(next(prime_generator))\n"
   ]
  },
  {
   "cell_type": "code",
   "execution_count": null,
   "id": "3a67a38d-bc78-4c7e-8021-5a1e13b68c37",
   "metadata": {},
   "outputs": [],
   "source": []
  }
 ],
 "metadata": {
  "kernelspec": {
   "display_name": "Python 3 (ipykernel)",
   "language": "python",
   "name": "python3"
  },
  "language_info": {
   "codemirror_mode": {
    "name": "ipython",
    "version": 3
   },
   "file_extension": ".py",
   "mimetype": "text/x-python",
   "name": "python",
   "nbconvert_exporter": "python",
   "pygments_lexer": "ipython3",
   "version": "3.10.8"
  }
 },
 "nbformat": 4,
 "nbformat_minor": 5
}
