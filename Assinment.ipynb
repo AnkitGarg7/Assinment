{
 "cells": [
  {
   "cell_type": "markdown",
   "id": "d9aa2d10-b03a-4888-8eba-283f554d2a55",
   "metadata": {},
   "source": [
    "#### Q1. What are the characteristics of the tuples? Is tuple immutable?\n",
    "* Ans_1. Tuples are an ordered collection of elements of different data types. Furthermore, we represent them by writing the elements inside the parenthesis separated by commas. We can also define tuples as lists that we cannot change. Therefore, we can call them immutable tuples.\n"
   ]
  },
  {
   "cell_type": "markdown",
   "id": "d702b06a-abac-418e-8c4d-38d63547016c",
   "metadata": {},
   "source": [
    "####  Q2. What are the two tuple methods in python? Give an example of each method. Give a reason why tuples have only two in-built methods as compared to Lists."
   ]
  },
  {
   "cell_type": "code",
   "execution_count": 4,
   "id": "1b24d908-cd8d-4208-aa4c-666f978a183f",
   "metadata": {},
   "outputs": [
    {
     "data": {
      "text/plain": [
       "3"
      ]
     },
     "execution_count": 4,
     "metadata": {},
     "output_type": "execute_result"
    }
   ],
   "source": [
    " # Ans_2 TWO METHODS:\n",
    "     #(a) Count() Method = The count() method of Tuple returns the number of times the given element appears in the tuple. \n",
    "# Example of count method\n",
    "numbers = (1,2,3,1,2,3,1,2,3)\n",
    "numbers.count(1)"
   ]
  },
  {
   "cell_type": "code",
   "execution_count": 11,
   "id": "c9195ecb-5663-4599-b8e3-d97391230811",
   "metadata": {},
   "outputs": [
    {
     "data": {
      "text/plain": [
       "'ankit'"
      ]
     },
     "execution_count": 11,
     "metadata": {},
     "output_type": "execute_result"
    }
   ],
   "source": [
    "# (b) Index() Method = The Index() method returns the first occurrence of the given element from the tuple.\n",
    "# Example of index method\n",
    "names = (\"ankit\",\"nistha\",\"chahat\",\"aastha\")\n",
    "names[0]"
   ]
  },
  {
   "cell_type": "markdown",
   "id": "d55c98d4-d1e5-4a03-9f49-1d54a5613a91",
   "metadata": {},
   "source": [
    "#### Q3. Which collection datatypes in python do not allow duplicate items? Write a code using a set to remove duplicates from the given list.\n",
    "##### List = [1, 1, 1, 2, 1, 3, 1, 4, 2, 1, 2, 2, 2, 3, 2, 4, 3, 1, 3, 2, 3, 3, 3, 4, 4, 1, 4, 2, 4, 3, 4, 4]"
   ]
  },
  {
   "cell_type": "code",
   "execution_count": 23,
   "id": "09b18ccb-7c28-4932-b79f-ea8456cd4430",
   "metadata": {},
   "outputs": [
    {
     "data": {
      "text/plain": [
       "{1, 2, 3, 4}"
      ]
     },
     "execution_count": 23,
     "metadata": {},
     "output_type": "execute_result"
    }
   ],
   "source": [
    "# Ans_3 Sets are a collection that is unordered and unindexed. They are mutable (changeable) but do not allow duplicate values to be held.\n",
    "List = [1, 1, 1, 2, 1, 3, 1, 4, 2, 1, 2, 2, 2, 3, 2, 4, 3, 1, 3, 2, 3, 3, 3, 4, 4, 1, 4, 2, 4, 3, 4, 4]\n",
    "List=set(List)\n",
    "List"
   ]
  },
  {
   "cell_type": "code",
   "execution_count": 24,
   "id": "bab05c01-5b52-4069-bdaa-74e8ac8455e0",
   "metadata": {},
   "outputs": [
    {
     "data": {
      "text/plain": [
       "[1, 2, 3, 4]"
      ]
     },
     "execution_count": 24,
     "metadata": {},
     "output_type": "execute_result"
    }
   ],
   "source": [
    "List=list(List)\n",
    "List"
   ]
  },
  {
   "cell_type": "markdown",
   "id": "cab8bf0d-141e-4af9-b4c1-c9212bfd2a1a",
   "metadata": {},
   "source": [
    "#### Q4. Explain the difference between the union() and update() methods for a set. Give an example of each method."
   ]
  },
  {
   "cell_type": "code",
   "execution_count": 25,
   "id": "2f40d460-2137-4e0b-9f60-e92f7cf49957",
   "metadata": {},
   "outputs": [
    {
     "name": "stdout",
     "output_type": "stream",
     "text": [
      "{1, 2, 3, 4, 5}\n",
      "{1, 2, 3}\n",
      "{3, 4, 5}\n"
     ]
    }
   ],
   "source": [
    "\"\"\"\n",
    "Ans_4. Both union() and update() methods are used to combine two or more sets into a single set, \n",
    "but they differ in how they handle the original sets and their contents.\n",
    "\n",
    "union() method returns a new set that contains all the elements from the original set as well as any elements\n",
    "from the other set(s) that are not already in the original set. The original sets remain unchanged. \n",
    "\"\"\"\n",
    "# for example\n",
    "set1 = {1, 2, 3}\n",
    "set2 = {3, 4, 5}\n",
    "set3 = set1.union(set2)\n",
    "print(set3)  \n",
    "print(set1)  \n",
    "print(set2)  \n"
   ]
  },
  {
   "cell_type": "code",
   "execution_count": 26,
   "id": "f44cf38f-b261-46a7-bd27-929f7b5b6750",
   "metadata": {},
   "outputs": [
    {
     "name": "stdout",
     "output_type": "stream",
     "text": [
      "{1, 2, 3, 4, 5}\n",
      "{3, 4, 5}\n"
     ]
    }
   ],
   "source": [
    "# update() method modifies the original set by adding all the elements from the other set(s) that are not already in the original set. \n",
    "#For example:\n",
    "set1 = {1, 2, 3}\n",
    "set2 = {3, 4, 5}\n",
    "set1.update(set2)\n",
    "print(set1)  \n",
    "print(set2)  \n"
   ]
  },
  {
   "cell_type": "markdown",
   "id": "5e6e3519-be97-40e7-b655-fbb1cc7263fc",
   "metadata": {},
   "source": [
    "#### Q5. What is a dictionary? Give an example. Also, state whether a dictionary is ordered or unordered."
   ]
  },
  {
   "cell_type": "code",
   "execution_count": 29,
   "id": "6ce66edf-02bd-48f6-b300-20c25601113f",
   "metadata": {},
   "outputs": [
    {
     "name": "stdout",
     "output_type": "stream",
     "text": [
      "{'brand': 'Ford', 'model': 'Mustang', 'year': 1964}\n"
     ]
    }
   ],
   "source": [
    "\"\"\"Ans_5 dictionary is an unordered collection that contains key:value pairs separated by commas inside curly brackets.\n",
    "   Dictionaries are optimized to retrieve values when the key is known.\"\"\"\n",
    "# For example\n",
    "d={}\n",
    "d1 = { \"brand\": \"Ford\", \"model\": \"Mustang\", \"year\": 1964}\n",
    "print(d1)"
   ]
  },
  {
   "cell_type": "markdown",
   "id": "d15ddfa6-821e-47be-b2cf-b6bf502112ee",
   "metadata": {},
   "source": [
    "#### Q6. Can we create a nested dictionary? If so, please give an example by creating a simple one-level nested dictionary."
   ]
  },
  {
   "cell_type": "code",
   "execution_count": 31,
   "id": "26f6d061-2dfa-462e-9a48-ababc068bae5",
   "metadata": {},
   "outputs": [
    {
     "name": "stdout",
     "output_type": "stream",
     "text": [
      "{'liu': {'nmjk': 'LK'}}\n"
     ]
    }
   ],
   "source": [
    "# Ans_6 Yes we can create a nested dictionary\n",
    "d2={\"liu\":{\"nmjk\":\"LK\"}}\n",
    "print(d2) "
   ]
  },
  {
   "cell_type": "markdown",
   "id": "64cc738e-4f4b-47af-bda8-dd914e23f903",
   "metadata": {},
   "source": [
    "#### Q7. Using setdefault() method, create key named topics in the given dictionary and also add the value of the key as this list ['Python', 'Machine Learning’, 'Deep Learning'] dict1 = {'language' : 'Python', 'course': 'Data Science Masters'}\n",
    "#### dict1 = {'language' : 'Python', 'course': 'Data Science Masters'}"
   ]
  },
  {
   "cell_type": "code",
   "execution_count": 1,
   "id": "36687b8b-a279-4614-90fe-6870c1c24f59",
   "metadata": {},
   "outputs": [
    {
     "name": "stdout",
     "output_type": "stream",
     "text": [
      "{'language': 'Python', 'course': 'Data Science Masters', 'topics': ['Python', 'Machine Learning', 'Deep Learning']}\n"
     ]
    }
   ],
   "source": [
    "dict1 = {'language': 'Python', 'course': 'Data Science Masters'}\n",
    "dict1.setdefault('topics', ['Python', 'Machine Learning', 'Deep Learning'])\n",
    "print(dict1)"
   ]
  },
  {
   "cell_type": "markdown",
   "id": "e31ac00e-a817-4995-b663-2bcb201a7178",
   "metadata": {},
   "source": [
    "#### Q8. What are the three view objects in dictionaries? Use the three in-built methods in python to display these three view objects for the given dictionary. dict1 = {'Sport': 'Cricket' , 'Teams': ['India', 'Australia', 'England', 'South Africa', 'Sri Lanka', 'New Zealand']}"
   ]
  },
  {
   "cell_type": "code",
   "execution_count": 2,
   "id": "1f1d3f7d-77eb-4e33-a55e-dffadd19b620",
   "metadata": {},
   "outputs": [
    {
     "name": "stdout",
     "output_type": "stream",
     "text": [
      "dict_keys(['Sport', 'Teams'])\n",
      "dict_values(['Cricket', ['India', 'Australia', 'England', 'South Africa', 'Sri Lanka', 'New Zealand']])\n",
      "dict_items([('Sport', 'Cricket'), ('Teams', ['India', 'Australia', 'England', 'South Africa', 'Sri Lanka', 'New Zealand'])])\n"
     ]
    }
   ],
   "source": [
    "''' Ans_8 In Python, there are three view objects for dictionaries, which provide dynamic views of the dictionary's keys, values, \n",
    "and key-value pairs:\n",
    "1) keys() view object: This returns a dynamic view object that contains the keys of the dictionary.\n",
    "Any changes made to the dictionary will be reflected in this view object.\n",
    "\n",
    "2) values() view object: This returns a dynamic view object that contains the values of the dictionary.\n",
    "Any changes made to the dictionary will be reflected in this view object.\n",
    "\n",
    "3) items() view object: This returns a dynamic view object that contains the key-value pairs of the dictionary as tuples.\n",
    "Any changes made to the dictionary will be reflected in this view object. '''\n",
    "\n",
    "dict1 = {'Sport': 'Cricket', 'Teams': ['India', 'Australia', 'England', 'South Africa', 'Sri Lanka', 'New Zealand']}\n",
    "\n",
    "# Display keys view object\n",
    "keys_view = dict1.keys()\n",
    "print(keys_view)\n",
    "\n",
    "# Display values view object\n",
    "values_view = dict1.values()\n",
    "print(values_view)\n",
    "\n",
    "# Display items view object\n",
    "items_view = dict1.items()\n",
    "print(items_view)"
   ]
  },
  {
   "cell_type": "code",
   "execution_count": null,
   "id": "72e6f041-5319-4b19-a63b-741ef3ebda73",
   "metadata": {},
   "outputs": [],
   "source": []
  }
 ],
 "metadata": {
  "kernelspec": {
   "display_name": "Python 3 (ipykernel)",
   "language": "python",
   "name": "python3"
  },
  "language_info": {
   "codemirror_mode": {
    "name": "ipython",
    "version": 3
   },
   "file_extension": ".py",
   "mimetype": "text/x-python",
   "name": "python",
   "nbconvert_exporter": "python",
   "pygments_lexer": "ipython3",
   "version": "3.10.8"
  }
 },
 "nbformat": 4,
 "nbformat_minor": 5
}
